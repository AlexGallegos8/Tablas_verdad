{
 "cells": [
  {
   "cell_type": "markdown",
   "id": "cd3482fa",
   "metadata": {},
   "source": [
    "# <Span style= \"color: hotpink\">Tablas de verdad </span>\n",
    "\n",
    "Primero importamos la biblioteca"
   ]
  },
  {
   "cell_type": "code",
   "execution_count": 3,
   "id": "b658882f",
   "metadata": {},
   "outputs": [],
   "source": [
    "import ttg"
   ]
  },
  {
   "cell_type": "markdown",
   "id": "af16e828",
   "metadata": {},
   "source": [
    "Si marca error, entonces es necesario instalar primero la bilbioteca con el sig. comnando:\n"
   ]
  },
  {
   "cell_type": "code",
   "execution_count": null,
   "id": "f26dfdb6",
   "metadata": {},
   "outputs": [],
   "source": [
    "pip install truth-table-generator"
   ]
  },
  {
   "cell_type": "markdown",
   "id": "eef674ae",
   "metadata": {},
   "source": [
    "**Nota:** Debemos reiniciar el kernel despues de instalar la biblioteca y probar de nuevo con el comando"
   ]
  },
  {
   "cell_type": "code",
   "execution_count": null,
   "id": "1a64cc42",
   "metadata": {},
   "outputs": [],
   "source": [
    "import ttg"
   ]
  },
  {
   "cell_type": "markdown",
   "id": "b8f21838",
   "metadata": {},
   "source": [
    "como primer ejemplo vamos a utilizar la bilbioteca **ttg** para imprimir los valores de verdad de dos proposiciones"
   ]
  },
  {
   "cell_type": "code",
   "execution_count": 4,
   "id": "280fdd7f",
   "metadata": {},
   "outputs": [
    {
     "name": "stdout",
     "output_type": "stream",
     "text": [
      "+-----+-----+\n",
      "|  p  |  q  |\n",
      "|-----+-----|\n",
      "|  1  |  1  |\n",
      "|  1  |  0  |\n",
      "|  0  |  1  |\n",
      "|  0  |  0  |\n",
      "+-----+-----+\n"
     ]
    }
   ],
   "source": [
    "print(ttg.Truths(['p', 'q']))"
   ]
  },
  {
   "cell_type": "markdown",
   "id": "0686fe78",
   "metadata": {},
   "source": [
    "Y de la misma forma podemos imprimir o mostrar los valores de verdad para 3, 4 o más proposiciones."
   ]
  },
  {
   "cell_type": "code",
   "execution_count": 5,
   "id": "890710be",
   "metadata": {},
   "outputs": [
    {
     "name": "stdout",
     "output_type": "stream",
     "text": [
      "+-----+-----+-----+\n",
      "|  p  |  q  |  r  |\n",
      "|-----+-----+-----|\n",
      "|  1  |  1  |  1  |\n",
      "|  1  |  1  |  0  |\n",
      "|  1  |  0  |  1  |\n",
      "|  1  |  0  |  0  |\n",
      "|  0  |  1  |  1  |\n",
      "|  0  |  1  |  0  |\n",
      "|  0  |  0  |  1  |\n",
      "|  0  |  0  |  0  |\n",
      "+-----+-----+-----+\n"
     ]
    }
   ],
   "source": [
    "print(ttg.Truths(['p', 'q', 'r']))"
   ]
  },
  {
   "cell_type": "code",
   "execution_count": 6,
   "id": "e7719287",
   "metadata": {},
   "outputs": [
    {
     "name": "stdout",
     "output_type": "stream",
     "text": [
      "+-----+-----+-----+-----+\n",
      "|  p  |  q  |  r  |  s  |\n",
      "|-----+-----+-----+-----|\n",
      "|  1  |  1  |  1  |  1  |\n",
      "|  1  |  1  |  1  |  0  |\n",
      "|  1  |  1  |  0  |  1  |\n",
      "|  1  |  1  |  0  |  0  |\n",
      "|  1  |  0  |  1  |  1  |\n",
      "|  1  |  0  |  1  |  0  |\n",
      "|  1  |  0  |  0  |  1  |\n",
      "|  1  |  0  |  0  |  0  |\n",
      "|  0  |  1  |  1  |  1  |\n",
      "|  0  |  1  |  1  |  0  |\n",
      "|  0  |  1  |  0  |  1  |\n",
      "|  0  |  1  |  0  |  0  |\n",
      "|  0  |  0  |  1  |  1  |\n",
      "|  0  |  0  |  1  |  0  |\n",
      "|  0  |  0  |  0  |  1  |\n",
      "|  0  |  0  |  0  |  0  |\n",
      "+-----+-----+-----+-----+\n"
     ]
    }
   ],
   "source": [
    "print(ttg.Truths(['p', 'q', 'r', 's']))"
   ]
  },
  {
   "cell_type": "code",
   "execution_count": 7,
   "id": "58b84ba2",
   "metadata": {},
   "outputs": [
    {
     "name": "stdout",
     "output_type": "stream",
     "text": [
      "+-----+-----+-----+-----+-----+\n",
      "|  p  |  q  |  r  |  s  |  t  |\n",
      "|-----+-----+-----+-----+-----|\n",
      "|  1  |  1  |  1  |  1  |  1  |\n",
      "|  1  |  1  |  1  |  1  |  0  |\n",
      "|  1  |  1  |  1  |  0  |  1  |\n",
      "|  1  |  1  |  1  |  0  |  0  |\n",
      "|  1  |  1  |  0  |  1  |  1  |\n",
      "|  1  |  1  |  0  |  1  |  0  |\n",
      "|  1  |  1  |  0  |  0  |  1  |\n",
      "|  1  |  1  |  0  |  0  |  0  |\n",
      "|  1  |  0  |  1  |  1  |  1  |\n",
      "|  1  |  0  |  1  |  1  |  0  |\n",
      "|  1  |  0  |  1  |  0  |  1  |\n",
      "|  1  |  0  |  1  |  0  |  0  |\n",
      "|  1  |  0  |  0  |  1  |  1  |\n",
      "|  1  |  0  |  0  |  1  |  0  |\n",
      "|  1  |  0  |  0  |  0  |  1  |\n",
      "|  1  |  0  |  0  |  0  |  0  |\n",
      "|  0  |  1  |  1  |  1  |  1  |\n",
      "|  0  |  1  |  1  |  1  |  0  |\n",
      "|  0  |  1  |  1  |  0  |  1  |\n",
      "|  0  |  1  |  1  |  0  |  0  |\n",
      "|  0  |  1  |  0  |  1  |  1  |\n",
      "|  0  |  1  |  0  |  1  |  0  |\n",
      "|  0  |  1  |  0  |  0  |  1  |\n",
      "|  0  |  1  |  0  |  0  |  0  |\n",
      "|  0  |  0  |  1  |  1  |  1  |\n",
      "|  0  |  0  |  1  |  1  |  0  |\n",
      "|  0  |  0  |  1  |  0  |  1  |\n",
      "|  0  |  0  |  1  |  0  |  0  |\n",
      "|  0  |  0  |  0  |  1  |  1  |\n",
      "|  0  |  0  |  0  |  1  |  0  |\n",
      "|  0  |  0  |  0  |  0  |  1  |\n",
      "|  0  |  0  |  0  |  0  |  0  |\n",
      "+-----+-----+-----+-----+-----+\n"
     ]
    }
   ],
   "source": [
    "print(ttg.Truths(['p', 'q', 'r', 's', 't']))"
   ]
  },
  {
   "cell_type": "code",
   "execution_count": 8,
   "id": "0705584a",
   "metadata": {},
   "outputs": [
    {
     "name": "stdout",
     "output_type": "stream",
     "text": [
      "+-----+-----+-----+\n",
      "|  a  |  b  |  c  |\n",
      "|-----+-----+-----|\n",
      "|  1  |  1  |  1  |\n",
      "|  1  |  1  |  0  |\n",
      "|  1  |  0  |  1  |\n",
      "|  1  |  0  |  0  |\n",
      "|  0  |  1  |  1  |\n",
      "|  0  |  1  |  0  |\n",
      "|  0  |  0  |  1  |\n",
      "|  0  |  0  |  0  |\n",
      "+-----+-----+-----+\n"
     ]
    }
   ],
   "source": [
    "print(ttg.Truths(['a', 'b', 'c']))"
   ]
  },
  {
   "cell_type": "code",
   "execution_count": 9,
   "id": "12e400a5",
   "metadata": {},
   "outputs": [
    {
     "name": "stdout",
     "output_type": "stream",
     "text": [
      "+-----+-----+\n",
      "|  p  |  q  |\n",
      "|-----+-----|\n",
      "|  1  |  1  |\n",
      "|  1  |  0  |\n",
      "|  0  |  1  |\n",
      "|  0  |  0  |\n",
      "+-----+-----+\n"
     ]
    }
   ],
   "source": [
    "print(ttg.Truths(['p', 'q'],ints=False))"
   ]
  },
  {
   "cell_type": "markdown",
   "id": "f7f69534",
   "metadata": {},
   "source": [
    "## Operadores y sus representaciones\n",
    "\n",
    "Para construir las proposiciones podemos utilizar los sig. operadores:\n",
    "<ul>\n",
    "<li>negation: 'not', '-', '~'\n",
    "<li>logical disjunction: 'or'\n",
    "<li>logical nor: 'nor'\n",
    "<li>exclusive disjunction: 'xor', '!='\n",
    "<li>logical conjunction: 'and'\n",
    "<li>logical NAND: 'nand'\n",
    "<li>material implication: '=>', 'implies'\n",
    "<li>logical biconditional: '='\n",
    "    </ul>\n",
    "    \n",
    "   Por ejemplo, para generar la tabla de verdad de la conjunción **p ^ q** :\n",
    "    "
   ]
  },
  {
   "cell_type": "code",
   "execution_count": 10,
   "id": "5cf69a4b",
   "metadata": {},
   "outputs": [
    {
     "name": "stdout",
     "output_type": "stream",
     "text": [
      "+-----+-----+-----------+\n",
      "|  p  |  q  |  p and q  |\n",
      "|-----+-----+-----------|\n",
      "|  1  |  1  |     1     |\n",
      "|  1  |  0  |     0     |\n",
      "|  0  |  1  |     0     |\n",
      "|  0  |  0  |     0     |\n",
      "+-----+-----+-----------+\n"
     ]
    }
   ],
   "source": [
    "print(ttg.Truths (['p', 'q'], ['p and q']))"
   ]
  },
  {
   "cell_type": "code",
   "execution_count": 11,
   "id": "10077d29",
   "metadata": {},
   "outputs": [
    {
     "name": "stdout",
     "output_type": "stream",
     "text": [
      "+-----+-----+----------+\n",
      "|  p  |  q  |  p or q  |\n",
      "|-----+-----+----------|\n",
      "|  1  |  1  |    1     |\n",
      "|  1  |  0  |    1     |\n",
      "|  0  |  1  |    1     |\n",
      "|  0  |  0  |    0     |\n",
      "+-----+-----+----------+\n"
     ]
    }
   ],
   "source": [
    "print(ttg.Truths (['p', 'q'], ['p or q']))"
   ]
  },
  {
   "cell_type": "code",
   "execution_count": 15,
   "id": "7426ee49",
   "metadata": {},
   "outputs": [
    {
     "name": "stdout",
     "output_type": "stream",
     "text": [
      "+-----+-----+-----------+\n",
      "|  p  |  q  |  p nor q  |\n",
      "|-----+-----+-----------|\n",
      "|  1  |  1  |     0     |\n",
      "|  1  |  0  |     0     |\n",
      "|  0  |  1  |     0     |\n",
      "|  0  |  0  |     1     |\n",
      "+-----+-----+-----------+\n"
     ]
    }
   ],
   "source": [
    "print(ttg.Truths (['p', 'q'], ['p nor q']))"
   ]
  },
  {
   "cell_type": "code",
   "execution_count": 16,
   "id": "d1d666be",
   "metadata": {},
   "outputs": [
    {
     "name": "stdout",
     "output_type": "stream",
     "text": [
      "+-----+-----+-----------+\n",
      "|  p  |  q  |  p xor q  |\n",
      "|-----+-----+-----------|\n",
      "|  1  |  1  |     0     |\n",
      "|  1  |  0  |     1     |\n",
      "|  0  |  1  |     1     |\n",
      "|  0  |  0  |     0     |\n",
      "+-----+-----+-----------+\n"
     ]
    }
   ],
   "source": [
    "print(ttg.Truths (['p', 'q'], ['p xor q']))"
   ]
  },
  {
   "cell_type": "code",
   "execution_count": 17,
   "id": "0c9225d4",
   "metadata": {},
   "outputs": [
    {
     "name": "stdout",
     "output_type": "stream",
     "text": [
      "+-----+-----+------------+\n",
      "|  p  |  q  |  p nand q  |\n",
      "|-----+-----+------------|\n",
      "|  1  |  1  |     0      |\n",
      "|  1  |  0  |     1      |\n",
      "|  0  |  1  |     1      |\n",
      "|  0  |  0  |     1      |\n",
      "+-----+-----+------------+\n"
     ]
    }
   ],
   "source": [
    "print(ttg.Truths (['p', 'q'], ['p nand q']))"
   ]
  },
  {
   "cell_type": "code",
   "execution_count": 18,
   "id": "cd3eb5b9",
   "metadata": {},
   "outputs": [
    {
     "name": "stdout",
     "output_type": "stream",
     "text": [
      "+-----+-----+----------+\n",
      "|  p  |  q  |  p => q  |\n",
      "|-----+-----+----------|\n",
      "|  1  |  1  |    1     |\n",
      "|  1  |  0  |    0     |\n",
      "|  0  |  1  |    1     |\n",
      "|  0  |  0  |    1     |\n",
      "+-----+-----+----------+\n"
     ]
    }
   ],
   "source": [
    "print(ttg.Truths (['p', 'q'], ['p => q']))"
   ]
  },
  {
   "cell_type": "code",
   "execution_count": 19,
   "id": "ed911004",
   "metadata": {},
   "outputs": [
    {
     "name": "stdout",
     "output_type": "stream",
     "text": [
      "+-----+-----+---------+\n",
      "|  p  |  q  |  p = q  |\n",
      "|-----+-----+---------|\n",
      "|  1  |  1  |    1    |\n",
      "|  1  |  0  |    0    |\n",
      "|  0  |  1  |    0    |\n",
      "|  0  |  0  |    1    |\n",
      "+-----+-----+---------+\n"
     ]
    }
   ],
   "source": [
    "print(ttg.Truths (['p', 'q'], ['p = q']))"
   ]
  },
  {
   "cell_type": "code",
   "execution_count": 36,
   "id": "e9e6fb20",
   "metadata": {},
   "outputs": [
    {
     "name": "stdout",
     "output_type": "stream",
     "text": [
      "+-----+---------+\n",
      "|  p  |  not p  |\n",
      "|-----+---------|\n",
      "|  1  |    0    |\n",
      "|  0  |    1    |\n",
      "+-----+---------+\n"
     ]
    }
   ],
   "source": [
    "print(ttg.Truths (['p'], ['not p'] ))"
   ]
  }
 ],
 "metadata": {
  "kernelspec": {
   "display_name": "Python 3 (ipykernel)",
   "language": "python",
   "name": "python3"
  },
  "language_info": {
   "codemirror_mode": {
    "name": "ipython",
    "version": 3
   },
   "file_extension": ".py",
   "mimetype": "text/x-python",
   "name": "python",
   "nbconvert_exporter": "python",
   "pygments_lexer": "ipython3",
   "version": "3.9.13"
  }
 },
 "nbformat": 4,
 "nbformat_minor": 5
}
