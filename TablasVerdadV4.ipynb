{
 "cells": [
  {
   "cell_type": "markdown",
   "id": "2d4c3126",
   "metadata": {},
   "source": [
    "# Tablas de verdad v4\n",
    "\n",
    "De acuerdo con <a hrf=\"https://platzi.com/clases/3221-pensamiento-logico/50676-que-son-las-tablas-de-verdad/\">Platzi</a>, las tablas de verdad son herramientas representadas a través de varios gráficos de filas y columnas que muestran todos los posibles escenarios y condiciones de valores de entrada para una operación lógica y su resultado correspondiente.\n",
    "\n",
    "Su función base es mostrar cómo funcionan un circuito electrónico y los programas de una computadora, siendo también un pilar de la lógica proposicional.\n",
    "\n",
    "<img src=https://static.platzi.com/media/user_upload/tablas-verdad-reglas-9ad0f07d-24d4-4a02-aaf5-be8db8711221.jpg width= 500>"
   ]
  },
  {
   "cell_type": "markdown",
   "id": "b8f1640f",
   "metadata": {},
   "source": [
    "## Una breve introducción sobre variables con python\n",
    "\n",
    "De acuerdo con <a hrf= \"https://tutorialpython.com/variables-en-python/\"> tutorial python </a>, una variable es un repositorio donde guardamos una determinada información. En función del tipo de información que guardemos (texto, números, booleanas, etc.), la variable será de uno u otro tipo. Por simplicidad sólo vamos a ver las variables de texto y numéricas, ya que son las que se usan en más del 80% de las ocasiones.\n",
    "\n",
    "Cada variable necesita un nombre con el que referirnos a ella. Python tiene en cuenta si escribimos en mayúsculas o minúsculas la variable (lo que se conoce como case sensitive). Por ejemplo:\n",
    "\n",
    "<a href=\"\"><img src=> </a>"
   ]
  },
  {
   "cell_type": "code",
   "execution_count": 2,
   "id": "30635a41",
   "metadata": {},
   "outputs": [],
   "source": [
    "edad = 18\n",
    "nombre = \"Alex\""
   ]
  },
  {
   "cell_type": "markdown",
   "id": "ce960c11",
   "metadata": {},
   "source": [
    "Son variables descriptivas"
   ]
  },
  {
   "cell_type": "code",
   "execution_count": 3,
   "id": "f8c9365d",
   "metadata": {},
   "outputs": [
    {
     "name": "stdout",
     "output_type": "stream",
     "text": [
      "18\n"
     ]
    }
   ],
   "source": [
    "print(edad)"
   ]
  },
  {
   "cell_type": "code",
   "execution_count": 4,
   "id": "2e24e6a8",
   "metadata": {},
   "outputs": [
    {
     "name": "stdout",
     "output_type": "stream",
     "text": [
      "Alex\n"
     ]
    }
   ],
   "source": [
    "print(nombre)"
   ]
  },
  {
   "cell_type": "code",
   "execution_count": 5,
   "id": "3107b75d",
   "metadata": {},
   "outputs": [],
   "source": [
    "booleano= True"
   ]
  },
  {
   "cell_type": "code",
   "execution_count": 6,
   "id": "5f3bf6b8",
   "metadata": {},
   "outputs": [
    {
     "name": "stdout",
     "output_type": "stream",
     "text": [
      "True\n"
     ]
    }
   ],
   "source": [
    "print (booleano)"
   ]
  },
  {
   "cell_type": "code",
   "execution_count": 9,
   "id": "35964034",
   "metadata": {},
   "outputs": [
    {
     "name": "stdout",
     "output_type": "stream",
     "text": [
      "Escribe tu nombre: Vicky\n"
     ]
    }
   ],
   "source": [
    "nombre= input(\"Escribe tu nombre: \")"
   ]
  },
  {
   "cell_type": "code",
   "execution_count": 10,
   "id": "fcb4ff67",
   "metadata": {},
   "outputs": [
    {
     "name": "stdout",
     "output_type": "stream",
     "text": [
      "Vicky\n"
     ]
    }
   ],
   "source": [
    "print(nombre)"
   ]
  },
  {
   "cell_type": "code",
   "execution_count": 12,
   "id": "7862eb8e",
   "metadata": {},
   "outputs": [
    {
     "name": "stdout",
     "output_type": "stream",
     "text": [
      "¿Cuál es tu edad?: 56\n"
     ]
    }
   ],
   "source": [
    "edad = input(\"¿Cuál es tu edad?: \")"
   ]
  },
  {
   "cell_type": "code",
   "execution_count": 13,
   "id": "a450dc89",
   "metadata": {},
   "outputs": [
    {
     "name": "stdout",
     "output_type": "stream",
     "text": [
      "56\n"
     ]
    }
   ],
   "source": [
    "print(edad)"
   ]
  },
  {
   "cell_type": "code",
   "execution_count": 16,
   "id": "d019f5b0",
   "metadata": {},
   "outputs": [
    {
     "name": "stdout",
     "output_type": "stream",
     "text": [
      "672\n"
     ]
    }
   ],
   "source": [
    "meses= int(edad) * 12\n",
    "print(meses)"
   ]
  },
  {
   "cell_type": "markdown",
   "id": "b432ffeb",
   "metadata": {},
   "source": [
    "## Regresando a las tablas de verdad\n",
    "\n",
    "En python existen muchas bibliotecas con diferentes funcionalidades, casi para todo. Para el caso de las tblas de verdad existe la bilioteca truth-table-generator como ttg.\n",
    "\n",
    "https://pypi.org/project/truth-table-generator/\n",
    "\n",
    "Para instalarla es necesario ejecutar el comando:\n"
   ]
  },
  {
   "cell_type": "code",
   "execution_count": 17,
   "id": "5d392062",
   "metadata": {},
   "outputs": [
    {
     "name": "stdout",
     "output_type": "stream",
     "text": [
      "Defaulting to user installation because normal site-packages is not writeable\n",
      "Requirement already satisfied: truth-table-generator in c:\\users\\zs23017352\\appdata\\roaming\\python\\python39\\site-packages (1.1.2)\n",
      "Requirement already satisfied: pyparsing in c:\\programdata\\anaconda3\\lib\\site-packages (from truth-table-generator) (3.0.9)\n",
      "Requirement already satisfied: PTable in c:\\users\\zs23017352\\appdata\\roaming\\python\\python39\\site-packages (from truth-table-generator) (0.9.2)\n",
      "Requirement already satisfied: numpy in c:\\programdata\\anaconda3\\lib\\site-packages (from truth-table-generator) (1.21.5)\n",
      "Requirement already satisfied: tabulate in c:\\programdata\\anaconda3\\lib\\site-packages (from truth-table-generator) (0.8.10)\n",
      "Requirement already satisfied: pandas in c:\\programdata\\anaconda3\\lib\\site-packages (from truth-table-generator) (1.4.4)\n",
      "Requirement already satisfied: jinja2 in c:\\programdata\\anaconda3\\lib\\site-packages (from truth-table-generator) (2.11.3)\n",
      "Requirement already satisfied: MarkupSafe>=0.23 in c:\\programdata\\anaconda3\\lib\\site-packages (from jinja2->truth-table-generator) (2.0.1)\n",
      "Requirement already satisfied: python-dateutil>=2.8.1 in c:\\programdata\\anaconda3\\lib\\site-packages (from pandas->truth-table-generator) (2.8.2)\n",
      "Requirement already satisfied: pytz>=2020.1 in c:\\programdata\\anaconda3\\lib\\site-packages (from pandas->truth-table-generator) (2022.1)\n",
      "Requirement already satisfied: six>=1.5 in c:\\programdata\\anaconda3\\lib\\site-packages (from python-dateutil>=2.8.1->pandas->truth-table-generator) (1.16.0)\n",
      "Note: you may need to restart the kernel to use updated packages.\n"
     ]
    }
   ],
   "source": [
    "pip install truth-table-generator"
   ]
  },
  {
   "cell_type": "markdown",
   "id": "2499678e",
   "metadata": {},
   "source": [
    "Para importar la bilioteca se utliza :"
   ]
  },
  {
   "cell_type": "code",
   "execution_count": 18,
   "id": "df7edf7a",
   "metadata": {},
   "outputs": [],
   "source": [
    "import ttg"
   ]
  },
  {
   "cell_type": "markdown",
   "id": "f4219af5",
   "metadata": {},
   "source": [
    "A truth table has one column for each input variable, and one final column showing all of the possible results of the logical operation that the table represents.\n",
    "\n",
    "Por ejemplo, si tenemos dos proposiciones: **p, q** podemos escribir el sig. código:"
   ]
  },
  {
   "cell_type": "code",
   "execution_count": 20,
   "id": "c1214d5a",
   "metadata": {},
   "outputs": [
    {
     "name": "stdout",
     "output_type": "stream",
     "text": [
      "+-----+-----+\n",
      "|  p  |  q  |\n",
      "|-----+-----|\n",
      "|  1  |  1  |\n",
      "|  1  |  0  |\n",
      "|  0  |  1  |\n",
      "|  0  |  0  |\n",
      "+-----+-----+\n"
     ]
    }
   ],
   "source": [
    "print(ttg.Truths(['p', 'q']))"
   ]
  },
  {
   "cell_type": "markdown",
   "id": "775a8d1b",
   "metadata": {},
   "source": [
    "también podemos agregar tres, cuatro o más propisiciones, por ejemplo"
   ]
  },
  {
   "cell_type": "code",
   "execution_count": 21,
   "id": "18d39981",
   "metadata": {},
   "outputs": [
    {
     "name": "stdout",
     "output_type": "stream",
     "text": [
      "+-----+-----+-----+\n",
      "|  p  |  q  |  r  |\n",
      "|-----+-----+-----|\n",
      "|  1  |  1  |  1  |\n",
      "|  1  |  1  |  0  |\n",
      "|  1  |  0  |  1  |\n",
      "|  1  |  0  |  0  |\n",
      "|  0  |  1  |  1  |\n",
      "|  0  |  1  |  0  |\n",
      "|  0  |  0  |  1  |\n",
      "|  0  |  0  |  0  |\n",
      "+-----+-----+-----+\n"
     ]
    }
   ],
   "source": [
    "print(ttg.Truths(['p', 'q', 'r']))"
   ]
  },
  {
   "cell_type": "markdown",
   "id": "9b978cdc",
   "metadata": {},
   "source": [
    "print(ttg.Truths(['p', 'q', 'r']))"
   ]
  },
  {
   "cell_type": "markdown",
   "id": "51dcd40b",
   "metadata": {},
   "source": [
    "## Operadores y sus representaciones\n",
    "\n",
    "<br>\n",
    "<li>negation: 'not', '-', '~'\n",
    "<li>logical disjunction: 'or'\n",
    "<li>logical nor: 'nor'\n",
    "<li>exclusive disjunction: 'xor', '!='\n",
    "<li>logical conjunction: 'and'\n",
    "<li>logical NAND: 'nand'\n",
    "<li>material implication: '=>', 'implies'\n",
    "<li> logical biconditional: '='\n",
    "<br><br>\n",
    "    \n",
    "<b> Note:</b> Use parentheses! Especially with the negation operator. Use tables above and below as reference. Although precedence rules are used, sometimes precedence between conjunction and disjunction is unspecified requiring to provide it explicitly in given formula with parentheses."
   ]
  },
  {
   "cell_type": "markdown",
   "id": "477df08f",
   "metadata": {},
   "source": [
    "## Ejercicios\n"
   ]
  },
  {
   "cell_type": "code",
   "execution_count": 3,
   "id": "9cbbf256",
   "metadata": {},
   "outputs": [],
   "source": [
    "import ttg"
   ]
  },
  {
   "cell_type": "code",
   "execution_count": 4,
   "id": "b8b206bd",
   "metadata": {},
   "outputs": [
    {
     "name": "stdout",
     "output_type": "stream",
     "text": [
      "+-----+-----+-----------+\n",
      "|  p  |  q  |  p and q  |\n",
      "|-----+-----+-----------|\n",
      "|  1  |  1  |     1     |\n",
      "|  1  |  0  |     0     |\n",
      "|  0  |  1  |     0     |\n",
      "|  0  |  0  |     0     |\n",
      "+-----+-----+-----------+\n"
     ]
    }
   ],
   "source": [
    "#Ejercicio 1\n",
    "# P^q\n",
    "print(ttg.Truths (['p', 'q'], ['p and q']))"
   ]
  },
  {
   "cell_type": "code",
   "execution_count": 8,
   "id": "2688f01a",
   "metadata": {},
   "outputs": [
    {
     "name": "stdout",
     "output_type": "stream",
     "text": [
      "+-----+-----+-----+-------------------+\n",
      "|  p  |  q  |  r  |  (p and q) and r  |\n",
      "|-----+-----+-----+-------------------|\n",
      "|  1  |  1  |  1  |         1         |\n",
      "|  1  |  1  |  0  |         0         |\n",
      "|  1  |  0  |  1  |         0         |\n",
      "|  1  |  0  |  0  |         0         |\n",
      "|  0  |  1  |  1  |         0         |\n",
      "|  0  |  1  |  0  |         0         |\n",
      "|  0  |  0  |  1  |         0         |\n",
      "|  0  |  0  |  0  |         0         |\n",
      "+-----+-----+-----+-------------------+\n"
     ]
    }
   ],
   "source": [
    "#Ejercicio 2\n",
    "#(p ^ q) ^ r\n",
    "print(ttg.Truths (['p', 'q', 'r',], ['(p and q) and r']))"
   ]
  },
  {
   "cell_type": "code",
   "execution_count": 9,
   "id": "a8fc8f6e",
   "metadata": {},
   "outputs": [
    {
     "name": "stdout",
     "output_type": "stream",
     "text": [
      "+-----+-----+--------------------------------------+\n",
      "|  p  |  q  |  not (p => not q) and (p and not q)  |\n",
      "|-----+-----+--------------------------------------|\n",
      "|  1  |  1  |                  0                   |\n",
      "|  1  |  0  |                  0                   |\n",
      "|  0  |  1  |                  0                   |\n",
      "|  0  |  0  |                  0                   |\n",
      "+-----+-----+--------------------------------------+\n"
     ]
    }
   ],
   "source": [
    "#Ejercicio 3\n",
    "#~(P => q) ^ (p^ ~q)\n",
    "print(ttg.Truths (['p', 'q',], [\"not (p => not q) and (p and not q)\"]))"
   ]
  },
  {
   "cell_type": "code",
   "execution_count": 11,
   "id": "44598b97",
   "metadata": {},
   "outputs": [
    {
     "name": "stdout",
     "output_type": "stream",
     "text": [
      "+-----+-----+-----------------------------+\n",
      "|  p  |  q  |  (p and q) or (p or not q)  |\n",
      "|-----+-----+-----------------------------|\n",
      "|  1  |  1  |              1              |\n",
      "|  1  |  0  |              1              |\n",
      "|  0  |  1  |              0              |\n",
      "|  0  |  0  |              1              |\n",
      "+-----+-----+-----------------------------+\n"
     ]
    }
   ],
   "source": [
    "#Ejercicio 4\n",
    "#(p ^ q) or (p ^ ~q)\n",
    "print(ttg.Truths (['p', 'q',], [\"(p and q) or (p or not q)\"]))"
   ]
  },
  {
   "cell_type": "code",
   "execution_count": 14,
   "id": "f015d6de",
   "metadata": {},
   "outputs": [
    {
     "name": "stdout",
     "output_type": "stream",
     "text": [
      "+-----+-----+-----+-----------------+\n",
      "|  p  |  q  |  r  |  p and q and r  |\n",
      "|-----+-----+-----+-----------------|\n",
      "|  1  |  1  |  1  |        1        |\n",
      "|  1  |  1  |  0  |        0        |\n",
      "|  1  |  0  |  1  |        0        |\n",
      "|  1  |  0  |  0  |        0        |\n",
      "|  0  |  1  |  1  |        0        |\n",
      "|  0  |  1  |  0  |        0        |\n",
      "|  0  |  0  |  1  |        0        |\n",
      "|  0  |  0  |  0  |        0        |\n",
      "+-----+-----+-----+-----------------+\n"
     ]
    }
   ],
   "source": [
    "#Ejercicio 5\n",
    "#p and q and r\n",
    "print(ttg.Truths (['p', 'q','r',], [\"p and q and r\"]))"
   ]
  },
  {
   "cell_type": "code",
   "execution_count": 16,
   "id": "ef1ef77a",
   "metadata": {},
   "outputs": [
    {
     "name": "stdout",
     "output_type": "stream",
     "text": [
      "+-----+-----+---------------------------------------+\n",
      "|  p  |  q  |  not (p and not q) and (p and not q)  |\n",
      "|-----+-----+---------------------------------------|\n",
      "|  1  |  1  |                   0                   |\n",
      "|  1  |  0  |                   0                   |\n",
      "|  0  |  1  |                   0                   |\n",
      "|  0  |  0  |                   0                   |\n",
      "+-----+-----+---------------------------------------+\n"
     ]
    }
   ],
   "source": [
    "#Ejercicio 6\n",
    "# not (p and not q) and (p and not q) \n",
    "print(ttg.Truths (['p', 'q',], [\"not (p and not q) and (p and not q)\"]))"
   ]
  },
  {
   "cell_type": "code",
   "execution_count": 18,
   "id": "7de34f19",
   "metadata": {},
   "outputs": [
    {
     "name": "stdout",
     "output_type": "stream",
     "text": [
      "+-----+-----+------------------------------------------------+\n",
      "|  p  |  q  |  (not(not(not p and not q))) or (p and not q)  |\n",
      "|-----+-----+------------------------------------------------|\n",
      "|  1  |  1  |                       0                        |\n",
      "|  1  |  0  |                       1                        |\n",
      "|  0  |  1  |                       0                        |\n",
      "|  0  |  0  |                       1                        |\n",
      "+-----+-----+------------------------------------------------+\n"
     ]
    }
   ],
   "source": [
    "#Ejercicio 7\n",
    "#(not(not(not p and not q))) or (p and not q)\n",
    "print(ttg.Truths (['p', 'q',], [\"(not(not(not p and not q))) or (p and not q)\"]))"
   ]
  },
  {
   "cell_type": "code",
   "execution_count": 20,
   "id": "9b8037ea",
   "metadata": {},
   "outputs": [
    {
     "name": "stdout",
     "output_type": "stream",
     "text": [
      "+-----+-----+-----+----------------+\n",
      "|  p  |  q  |  r  |  p or q and r  |\n",
      "|-----+-----+-----+----------------|\n",
      "|  1  |  1  |  1  |       1        |\n",
      "|  1  |  1  |  0  |       1        |\n",
      "|  1  |  0  |  1  |       1        |\n",
      "|  1  |  0  |  0  |       1        |\n",
      "|  0  |  1  |  1  |       1        |\n",
      "|  0  |  1  |  0  |       0        |\n",
      "|  0  |  0  |  1  |       0        |\n",
      "|  0  |  0  |  0  |       0        |\n",
      "+-----+-----+-----+----------------+\n"
     ]
    }
   ],
   "source": [
    "#Ejercicio 8\n",
    "#p or q and r\n",
    "print(ttg.Truths (['p', 'q','r',], [\"p or q and r\"]))"
   ]
  },
  {
   "cell_type": "code",
   "execution_count": 21,
   "id": "aede23be",
   "metadata": {},
   "outputs": [
    {
     "name": "stdout",
     "output_type": "stream",
     "text": [
      "+-----+-----+------------------------------------------------+\n",
      "|  p  |  q  |  (not(not p and not q)) and (not p and not q)  |\n",
      "|-----+-----+------------------------------------------------|\n",
      "|  1  |  1  |                       0                        |\n",
      "|  1  |  0  |                       0                        |\n",
      "|  0  |  1  |                       0                        |\n",
      "|  0  |  0  |                       0                        |\n",
      "+-----+-----+------------------------------------------------+\n"
     ]
    }
   ],
   "source": [
    "#Ejercicio 9\n",
    "#(not(not p and not q)) and (not p and not q)  \n",
    "print(ttg.Truths (['p', 'q',], [\"(not(not p and not q)) and (not p and not q)\"]))"
   ]
  },
  {
   "cell_type": "code",
   "execution_count": 22,
   "id": "06284751",
   "metadata": {},
   "outputs": [
    {
     "name": "stdout",
     "output_type": "stream",
     "text": [
      "+-----+-----+-----+--------------------+\n",
      "|  p  |  q  |  r  |  p or q and not r  |\n",
      "|-----+-----+-----+--------------------|\n",
      "|  1  |  1  |  1  |         1          |\n",
      "|  1  |  1  |  0  |         1          |\n",
      "|  1  |  0  |  1  |         1          |\n",
      "|  1  |  0  |  0  |         1          |\n",
      "|  0  |  1  |  1  |         0          |\n",
      "|  0  |  1  |  0  |         1          |\n",
      "|  0  |  0  |  1  |         0          |\n",
      "|  0  |  0  |  0  |         0          |\n",
      "+-----+-----+-----+--------------------+\n"
     ]
    }
   ],
   "source": [
    "#Ejercicio 10\n",
    "# p or q and not r \n",
    "print(ttg.Truths (['p', 'q','r',], [\"p or q and not r\"]))"
   ]
  },
  {
   "cell_type": "code",
   "execution_count": 25,
   "id": "ca2f3684",
   "metadata": {},
   "outputs": [
    {
     "name": "stdout",
     "output_type": "stream",
     "text": [
      "+-----+-----+-----+----------------+\n",
      "|  p  |  q  |  r  |  p and q => r  |\n",
      "|-----+-----+-----+----------------|\n",
      "|  1  |  1  |  1  |       1        |\n",
      "|  1  |  1  |  0  |       0        |\n",
      "|  1  |  0  |  1  |       1        |\n",
      "|  1  |  0  |  0  |       1        |\n",
      "|  0  |  1  |  1  |       1        |\n",
      "|  0  |  1  |  0  |       1        |\n",
      "|  0  |  0  |  1  |       1        |\n",
      "|  0  |  0  |  0  |       1        |\n",
      "+-----+-----+-----+----------------+\n"
     ]
    }
   ],
   "source": [
    "#Ejercicio 11\n",
    "#p and q => r\n",
    "print(ttg.Truths (['p', 'q','r',], [\"p and q => r\"]))"
   ]
  },
  {
   "cell_type": "code",
   "execution_count": 27,
   "id": "be8c54bd",
   "metadata": {},
   "outputs": [
    {
     "name": "stdout",
     "output_type": "stream",
     "text": [
      "+-----+-----+-----+--------------------+\n",
      "|  p  |  q  |  r  |  p and q => not r  |\n",
      "|-----+-----+-----+--------------------|\n",
      "|  1  |  1  |  1  |         0          |\n",
      "|  1  |  1  |  0  |         1          |\n",
      "|  1  |  0  |  1  |         1          |\n",
      "|  1  |  0  |  0  |         1          |\n",
      "|  0  |  1  |  1  |         1          |\n",
      "|  0  |  1  |  0  |         1          |\n",
      "|  0  |  0  |  1  |         1          |\n",
      "|  0  |  0  |  0  |         1          |\n",
      "+-----+-----+-----+--------------------+\n"
     ]
    }
   ],
   "source": [
    "#Ejercicio 12\n",
    "# p and q => not r\n",
    "print(ttg.Truths (['p', 'q','r',], [\"p and q => not r\"]))"
   ]
  },
  {
   "cell_type": "code",
   "execution_count": 28,
   "id": "36a75b00",
   "metadata": {},
   "outputs": [
    {
     "name": "stdout",
     "output_type": "stream",
     "text": [
      "+-----+-------------+\n",
      "|  p  |  p = not p  |\n",
      "|-----+-------------|\n",
      "|  1  |      0      |\n",
      "|  0  |      0      |\n",
      "+-----+-------------+\n"
     ]
    }
   ],
   "source": [
    "#Ejercicio 13\n",
    "#  p = not p\n",
    "print(ttg.Truths (['p',], [\"p = not p\"]))"
   ]
  },
  {
   "cell_type": "code",
   "execution_count": 29,
   "id": "8fd1ab23",
   "metadata": {},
   "outputs": [
    {
     "name": "stdout",
     "output_type": "stream",
     "text": [
      "+-----+-----+---------------------------------------+\n",
      "|  p  |  q  |  not (p and not q) and (p and not q)  |\n",
      "|-----+-----+---------------------------------------|\n",
      "|  1  |  1  |                   0                   |\n",
      "|  1  |  0  |                   0                   |\n",
      "|  0  |  1  |                   0                   |\n",
      "|  0  |  0  |                   0                   |\n",
      "+-----+-----+---------------------------------------+\n"
     ]
    }
   ],
   "source": [
    "#Ejercicio 14\n",
    "# not (p and not q) and (p and not q) \n",
    "print(ttg.Truths (['p', 'q',], [\"not (p and not q) and (p and not q)\"]))"
   ]
  },
  {
   "cell_type": "code",
   "execution_count": 33,
   "id": "a88e91ae",
   "metadata": {},
   "outputs": [
    {
     "name": "stdout",
     "output_type": "stream",
     "text": [
      "+-----+-----+---------------------------------+\n",
      "|  p  |  q  |  (not(not p)) or (not (not q))  |\n",
      "|-----+-----+---------------------------------|\n",
      "|  1  |  1  |                1                |\n",
      "|  1  |  0  |                1                |\n",
      "|  0  |  1  |                1                |\n",
      "|  0  |  0  |                0                |\n",
      "+-----+-----+---------------------------------+\n"
     ]
    }
   ],
   "source": [
    "#Ejercicio 15\n",
    "#(not(not p)) or (not (not q))\n",
    "print(ttg.Truths (['p', 'q',], [\"(not(not p)) or (not (not q))\"]))"
   ]
  },
  {
   "cell_type": "code",
   "execution_count": 34,
   "id": "a1c4c9da",
   "metadata": {},
   "outputs": [
    {
     "name": "stdout",
     "output_type": "stream",
     "text": [
      "+-----+-----+----------+\n",
      "|  p  |  q  |  p or q  |\n",
      "|-----+-----+----------|\n",
      "|  1  |  1  |    1     |\n",
      "|  1  |  0  |    1     |\n",
      "|  0  |  1  |    1     |\n",
      "|  0  |  0  |    0     |\n",
      "+-----+-----+----------+\n"
     ]
    }
   ],
   "source": [
    "#Ejercicio 16\n",
    "# p or q \n",
    "print(ttg.Truths (['p', 'q',], [\"p or q\"]))"
   ]
  },
  {
   "cell_type": "code",
   "execution_count": 38,
   "id": "598a2284",
   "metadata": {},
   "outputs": [
    {
     "name": "stdout",
     "output_type": "stream",
     "text": [
      "+-----+-----+-----+--------------+\n",
      "|  p  |  q  |  r  |  p = q or r  |\n",
      "|-----+-----+-----+--------------|\n",
      "|  1  |  1  |  1  |      1       |\n",
      "|  1  |  1  |  0  |      1       |\n",
      "|  1  |  0  |  1  |      1       |\n",
      "|  1  |  0  |  0  |      0       |\n",
      "|  0  |  1  |  1  |      0       |\n",
      "|  0  |  1  |  0  |      0       |\n",
      "|  0  |  0  |  1  |      0       |\n",
      "|  0  |  0  |  0  |      1       |\n",
      "+-----+-----+-----+--------------+\n"
     ]
    }
   ],
   "source": [
    "#Ejercicio 17\n",
    "#p = q or r\n",
    "print(ttg.Truths (['p', 'q','r'], [\"p = q or r\"]))"
   ]
  },
  {
   "cell_type": "code",
   "execution_count": 40,
   "id": "d4f7d269",
   "metadata": {},
   "outputs": [
    {
     "name": "stdout",
     "output_type": "stream",
     "text": [
      "+-----+-----+------------------------------------------------------+\n",
      "|  p  |  q  |  (not p or q) or (p and q) => (not p or q) or not p  |\n",
      "|-----+-----+------------------------------------------------------|\n",
      "|  1  |  1  |                          1                           |\n",
      "|  1  |  0  |                          1                           |\n",
      "|  0  |  1  |                          1                           |\n",
      "|  0  |  0  |                          1                           |\n",
      "+-----+-----+------------------------------------------------------+\n"
     ]
    }
   ],
   "source": [
    "#Ejercicio 18\n",
    "# (not p or q) or (p and q) => (not p or q) or not p\n",
    "print(ttg.Truths (['p', 'q',], [\"(not p or q) or (p and q) => (not p or q) or not p\"]))"
   ]
  },
  {
   "cell_type": "code",
   "execution_count": 61,
   "id": "626caa65",
   "metadata": {},
   "outputs": [
    {
     "name": "stdout",
     "output_type": "stream",
     "text": [
      "+-----+-----+---------------------------------------+\n",
      "|  p  |  q  |  (p or not q) =>((not p) => (not q))  |\n",
      "|-----+-----+---------------------------------------|\n",
      "|  1  |  1  |                   1                   |\n",
      "|  1  |  0  |                   1                   |\n",
      "|  0  |  1  |                   1                   |\n",
      "|  0  |  0  |                   1                   |\n",
      "+-----+-----+---------------------------------------+\n"
     ]
    }
   ],
   "source": [
    "#Ejercicio 19\n",
    "# (p or not q) =>((not p) => (not q))\n",
    "print(ttg.Truths (['p', 'q',], [\"(p or not q) =>((not p) => (not q))\"]))"
   ]
  },
  {
   "cell_type": "code",
   "execution_count": 49,
   "id": "1757e089",
   "metadata": {},
   "outputs": [
    {
     "name": "stdout",
     "output_type": "stream",
     "text": [
      "+-----+-----+-------------------------------+\n",
      "|  p  |  q  |  (p = not q) or (p or not q)  |\n",
      "|-----+-----+-------------------------------|\n",
      "|  1  |  1  |               1               |\n",
      "|  1  |  0  |               1               |\n",
      "|  0  |  1  |               1               |\n",
      "|  0  |  0  |               1               |\n",
      "+-----+-----+-------------------------------+\n"
     ]
    }
   ],
   "source": [
    "#Ejercicio 20\n",
    "#(p = not q) or (p or not q)\n",
    "print(ttg.Truths (['p', 'q',], [\"(p = not q) or (p or not q)\"]))"
   ]
  },
  {
   "cell_type": "code",
   "execution_count": 50,
   "id": "5755f7e2",
   "metadata": {},
   "outputs": [
    {
     "name": "stdout",
     "output_type": "stream",
     "text": [
      "+-----+-----+---------------------------------+\n",
      "|  p  |  q  |  (not p and q) or (not p => q)  |\n",
      "|-----+-----+---------------------------------|\n",
      "|  1  |  1  |                1                |\n",
      "|  1  |  0  |                1                |\n",
      "|  0  |  1  |                1                |\n",
      "|  0  |  0  |                0                |\n",
      "+-----+-----+---------------------------------+\n"
     ]
    }
   ],
   "source": [
    "#Ejercicio 21\n",
    "#(not p and q) or (not p => q)\n",
    "print(ttg.Truths (['p', 'q',], [\"(not p and q) or (not p => q)\"]))"
   ]
  },
  {
   "cell_type": "code",
   "execution_count": 51,
   "id": "d07e55d6",
   "metadata": {},
   "outputs": [
    {
     "name": "stdout",
     "output_type": "stream",
     "text": [
      "+-----+-----+-------------------+\n",
      "|  p  |  q  |   not q or not p  |\n",
      "|-----+-----+-------------------|\n",
      "|  1  |  1  |         0         |\n",
      "|  1  |  0  |         1         |\n",
      "|  0  |  1  |         1         |\n",
      "|  0  |  0  |         1         |\n",
      "+-----+-----+-------------------+\n"
     ]
    }
   ],
   "source": [
    "#Ejercicio 22\n",
    "#not q or not p\n",
    "print(ttg.Truths (['p', 'q',], [\" not q or not p\"]))"
   ]
  },
  {
   "cell_type": "code",
   "execution_count": 52,
   "id": "1aabdf4a",
   "metadata": {},
   "outputs": [
    {
     "name": "stdout",
     "output_type": "stream",
     "text": [
      "+-----+-----+-----+----------------------------------------------+\n",
      "|  p  |  q  |  r  |  (p => q and r) = not (not q or r) or not r  |\n",
      "|-----+-----+-----+----------------------------------------------|\n",
      "|  1  |  1  |  1  |                      0                       |\n",
      "|  1  |  1  |  0  |                      1                       |\n",
      "|  1  |  0  |  1  |                      1                       |\n",
      "|  1  |  0  |  0  |                      0                       |\n",
      "|  0  |  1  |  1  |                      0                       |\n",
      "|  0  |  1  |  0  |                      1                       |\n",
      "|  0  |  0  |  1  |                      0                       |\n",
      "|  0  |  0  |  0  |                      1                       |\n",
      "+-----+-----+-----+----------------------------------------------+\n"
     ]
    }
   ],
   "source": [
    "#Ejercicio 23\n",
    "#(p => q and r) = not (not q or r) or not r \n",
    "print(ttg.Truths (['p', 'q', 'r'], [\"(p => q and r) = not (not q or r) or not r\"]))"
   ]
  },
  {
   "cell_type": "code",
   "execution_count": 86,
   "id": "faf405ea",
   "metadata": {},
   "outputs": [
    {
     "name": "stdout",
     "output_type": "stream",
     "text": [
      "+-----+-----+--------------------------------------------+\n",
      "|  q  |  r  |  not q and r => not (not q or r) or not r  |\n",
      "|-----+-----+--------------------------------------------|\n",
      "|  1  |  1  |                     1                      |\n",
      "|  1  |  0  |                     1                      |\n",
      "|  0  |  1  |                     0                      |\n",
      "|  0  |  0  |                     1                      |\n",
      "+-----+-----+--------------------------------------------+\n"
     ]
    }
   ],
   "source": [
    "#Ejercicio 24\n",
    "#(~q^r) => not (not q or r) or not r\n",
    "print(ttg.Truths (['q','r'], [\"not q and r => not (not q or r) or not r\"]))"
   ]
  },
  {
   "cell_type": "code",
   "execution_count": 56,
   "id": "0be994d3",
   "metadata": {},
   "outputs": [
    {
     "name": "stdout",
     "output_type": "stream",
     "text": [
      "+-----+-----+-----+-------------------------------------------+\n",
      "|  p  |  q  |  r  |  (p => q) and r => not (p or r) or not r  |\n",
      "|-----+-----+-----+-------------------------------------------|\n",
      "|  1  |  1  |  1  |                     0                     |\n",
      "|  1  |  1  |  0  |                     1                     |\n",
      "|  1  |  0  |  1  |                     1                     |\n",
      "|  1  |  0  |  0  |                     1                     |\n",
      "|  0  |  1  |  1  |                     0                     |\n",
      "|  0  |  1  |  0  |                     1                     |\n",
      "|  0  |  0  |  1  |                     0                     |\n",
      "|  0  |  0  |  0  |                     1                     |\n",
      "+-----+-----+-----+-------------------------------------------+\n"
     ]
    }
   ],
   "source": [
    "#Ejercicio 25\n",
    "#(p => q) and r => not (p or r) or not r\n",
    "print(ttg.Truths (['p', 'q','r',], [\"(p => q) and r => not (p or r) or not r\"]))"
   ]
  },
  {
   "cell_type": "code",
   "execution_count": 68,
   "id": "21889a99",
   "metadata": {},
   "outputs": [
    {
     "name": "stdout",
     "output_type": "stream",
     "text": [
      "+-----+-----+-----+----------------------------------------------+\n",
      "|  p  |  q  |  r  |  (p => q) and (q => r) => ((p) and (not r))  |\n",
      "|-----+-----+-----+----------------------------------------------|\n",
      "|  1  |  1  |  1  |                      0                       |\n",
      "|  1  |  1  |  0  |                      1                       |\n",
      "|  1  |  0  |  1  |                      1                       |\n",
      "|  1  |  0  |  0  |                      1                       |\n",
      "|  0  |  1  |  1  |                      0                       |\n",
      "|  0  |  1  |  0  |                      1                       |\n",
      "|  0  |  0  |  1  |                      0                       |\n",
      "|  0  |  0  |  0  |                      0                       |\n",
      "+-----+-----+-----+----------------------------------------------+\n"
     ]
    }
   ],
   "source": [
    "#Ejercicio 26\n",
    "#(p => q) and (q => r) => ((p) and (not r))\n",
    "print(ttg.Truths (['p', 'q', 'r',], [\"(p => q) and (q => r) => ((p) and (not r))\"]))"
   ]
  },
  {
   "cell_type": "code",
   "execution_count": 58,
   "id": "8ff2a4f6",
   "metadata": {},
   "outputs": [
    {
     "name": "stdout",
     "output_type": "stream",
     "text": [
      "+-----+-----+-----+-----------------------------------------+\n",
      "|  p  |  q  |  r  |  not p = (q and r) or not (not q or r)  |\n",
      "|-----+-----+-----+-----------------------------------------|\n",
      "|  1  |  1  |  1  |                    0                    |\n",
      "|  1  |  1  |  0  |                    0                    |\n",
      "|  1  |  0  |  1  |                    1                    |\n",
      "|  1  |  0  |  0  |                    1                    |\n",
      "|  0  |  1  |  1  |                    1                    |\n",
      "|  0  |  1  |  0  |                    1                    |\n",
      "|  0  |  0  |  1  |                    0                    |\n",
      "|  0  |  0  |  0  |                    0                    |\n",
      "+-----+-----+-----+-----------------------------------------+\n"
     ]
    }
   ],
   "source": [
    "#Ejercicio 27\n",
    "#not p = (q and r) or not (not q or r) \n",
    "print(ttg.Truths (['p', 'q','r',], [\"not p = (q and r) or not (not q or r)\"]))"
   ]
  },
  {
   "cell_type": "code",
   "execution_count": 64,
   "id": "04d17938",
   "metadata": {},
   "outputs": [
    {
     "name": "stdout",
     "output_type": "stream",
     "text": [
      "+-----+-----+------------------------------------------------------------------+\n",
      "|  p  |  q  |  ((P or not q) => (p => q)) => ((not p => q) or not p) or not p  |\n",
      "|-----+-----+------------------------------------------------------------------|\n",
      "|  1  |  1  |                                1                                 |\n",
      "|  1  |  0  |                                1                                 |\n",
      "|  0  |  1  |                                1                                 |\n",
      "|  0  |  0  |                                1                                 |\n",
      "+-----+-----+------------------------------------------------------------------+\n"
     ]
    }
   ],
   "source": [
    "#Ejercicio 28\n",
    "#((P or not q) => (p => q)) => ((not p => q) or not p) or not p\n",
    "print(ttg.Truths (['p', 'q',], [\"((P or not q) => (p => q)) => ((not p => q) or not p) or not p\"]))"
   ]
  },
  {
   "cell_type": "code",
   "execution_count": 72,
   "id": "63f52433",
   "metadata": {},
   "outputs": [
    {
     "name": "stdout",
     "output_type": "stream",
     "text": [
      "+-----+-----+-------------------------------------------------------+\n",
      "|  p  |  q  |  not(p or q) or (p => q)) => ((not p => q) or not p)  |\n",
      "|-----+-----+-------------------------------------------------------|\n",
      "|  1  |  1  |                           1                           |\n",
      "|  1  |  0  |                           0                           |\n",
      "|  0  |  1  |                           1                           |\n",
      "|  0  |  0  |                           1                           |\n",
      "+-----+-----+-------------------------------------------------------+\n"
     ]
    }
   ],
   "source": [
    "#Ejercicio 29\n",
    "#not(p or q) or (p => q)) => ((not p => q) or not p) \n",
    "print(ttg.Truths (['p', 'q',], [\"not(p or q) or (p => q)) => ((not p => q) or not p)\"]))"
   ]
  },
  {
   "cell_type": "code",
   "execution_count": 81,
   "id": "42e60924",
   "metadata": {},
   "outputs": [
    {
     "name": "stdout",
     "output_type": "stream",
     "text": [
      "+-----+-----+-----+--------------------------------------+\n",
      "|  p  |  q  |  r  |  (p => q) and (q => r) => (p and r)  |\n",
      "|-----+-----+-----+--------------------------------------|\n",
      "|  1  |  1  |  1  |                  1                   |\n",
      "|  1  |  1  |  0  |                  1                   |\n",
      "|  1  |  0  |  1  |                  1                   |\n",
      "|  1  |  0  |  0  |                  1                   |\n",
      "|  0  |  1  |  1  |                  0                   |\n",
      "|  0  |  1  |  0  |                  1                   |\n",
      "|  0  |  0  |  1  |                  0                   |\n",
      "|  0  |  0  |  0  |                  0                   |\n",
      "+-----+-----+-----+--------------------------------------+\n"
     ]
    }
   ],
   "source": [
    "#Ejercicio 30\n",
    "#p => q) and (q => r) => (p and r)\n",
    "print(ttg.Truths (['p', 'q','r',], [(\"(p => q) and (q => r) => (p and r)\")]))"
   ]
  },
  {
   "cell_type": "code",
   "execution_count": 83,
   "id": "c55b4923",
   "metadata": {},
   "outputs": [
    {
     "name": "stdout",
     "output_type": "stream",
     "text": [
      "+-----+-----+-----+------------------------------+\n",
      "|  p  |  q  |  r  |  (p and q => r) => (p or r)  |\n",
      "|-----+-----+-----+------------------------------|\n",
      "|  1  |  1  |  1  |              1               |\n",
      "|  1  |  1  |  0  |              1               |\n",
      "|  1  |  0  |  1  |              1               |\n",
      "|  1  |  0  |  0  |              1               |\n",
      "|  0  |  1  |  1  |              1               |\n",
      "|  0  |  1  |  0  |              1               |\n",
      "|  0  |  0  |  1  |              1               |\n",
      "|  0  |  0  |  0  |              1               |\n",
      "+-----+-----+-----+------------------------------+\n"
     ]
    }
   ],
   "source": [
    "#Ejercicio 31\n",
    "#(p and q => r) => (p or r)\n",
    "print(ttg.Truths (['p', 'q','r',], [\"(p and q => r) => (p or r)\"]))"
   ]
  }
 ],
 "metadata": {
  "kernelspec": {
   "display_name": "Python 3 (ipykernel)",
   "language": "python",
   "name": "python3"
  },
  "language_info": {
   "codemirror_mode": {
    "name": "ipython",
    "version": 3
   },
   "file_extension": ".py",
   "mimetype": "text/x-python",
   "name": "python",
   "nbconvert_exporter": "python",
   "pygments_lexer": "ipython3",
   "version": "3.9.13"
  }
 },
 "nbformat": 4,
 "nbformat_minor": 5
}
