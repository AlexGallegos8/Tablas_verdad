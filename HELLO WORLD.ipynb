{
 "cells": [
  {
   "cell_type": "markdown",
   "id": "ae3e217c",
   "metadata": {},
   "source": [
    "<img src= \"https://th.bing.com/th/id/R.f3aa0f3b2d0ac2ec94b56a54adc5c156?rik=i4asPHYHy6CwkA&riu=http%3a%2f%2f4.bp.blogspot.com%2f-N8lU0JaiQGY%2fT1wpDsY_HEI%2fAAAAAAAAAEU%2fRtyJDrdB0LQ%2fs351%2fEscudoUV.jpg&ehk=39dYLQYo7HBwPt%2bGgVw1CshhdoqxfcD7YKH7nMKDhgo%3d&risl=&pid=ImgRaw&r=0\" width=100>\n",
    "\n",
    "<center>\n",
    "UNIVERSIDAD VERACRUZANA \n",
    "</center>\n",
    "\n",
    "<span  style=\"color:hotpink\">\n",
    "    LÓGICA\n",
    "</span>\n",
    "\n",
    "Este es **mi primer código en python con Anaconda**\n"
   ]
  },
  {
   "cell_type": "code",
   "execution_count": null,
   "id": "cfd82057",
   "metadata": {},
   "outputs": [],
   "source": [
    "print (\"Hello world\")"
   ]
  },
  {
   "cell_type": "code",
   "execution_count": null,
   "id": "063dd50d",
   "metadata": {},
   "outputs": [],
   "source": [
    "print (\"Ingeniería de software\")"
   ]
  },
  {
   "cell_type": "markdown",
   "id": "08d5d8a9",
   "metadata": {},
   "source": [
    "# variables"
   ]
  },
  {
   "cell_type": "code",
   "execution_count": 7,
   "id": "5970e290",
   "metadata": {},
   "outputs": [],
   "source": [
    "nombre= \"ALEX\""
   ]
  },
  {
   "cell_type": "code",
   "execution_count": 8,
   "id": "44877b22",
   "metadata": {},
   "outputs": [
    {
     "name": "stdout",
     "output_type": "stream",
     "text": [
      "ALEX\n"
     ]
    }
   ],
   "source": [
    "print (nombre)"
   ]
  },
  {
   "cell_type": "code",
   "execution_count": 9,
   "id": "1da22d19",
   "metadata": {},
   "outputs": [],
   "source": [
    "numero= \"24\""
   ]
  },
  {
   "cell_type": "code",
   "execution_count": 10,
   "id": "b9e97b52",
   "metadata": {},
   "outputs": [
    {
     "name": "stdout",
     "output_type": "stream",
     "text": [
      "24\n"
     ]
    }
   ],
   "source": [
    "print (numero)"
   ]
  },
  {
   "cell_type": "code",
   "execution_count": null,
   "id": "238b1138",
   "metadata": {},
   "outputs": [],
   "source": []
  }
 ],
 "metadata": {
  "kernelspec": {
   "display_name": "Python 3 (ipykernel)",
   "language": "python",
   "name": "python3"
  },
  "language_info": {
   "codemirror_mode": {
    "name": "ipython",
    "version": 3
   },
   "file_extension": ".py",
   "mimetype": "text/x-python",
   "name": "python",
   "nbconvert_exporter": "python",
   "pygments_lexer": "ipython3",
   "version": "3.9.13"
  }
 },
 "nbformat": 4,
 "nbformat_minor": 5
}
